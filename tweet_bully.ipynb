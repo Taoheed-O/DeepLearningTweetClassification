{
 "cells": [
  {
   "attachments": {},
   "cell_type": "markdown",
   "metadata": {
    "id": "cInmTEWmpZTZ"
   },
   "source": [
    "# Importing necessary libraries\n",
    "\n",
    "### Importing the libraries needed for building the model.\n",
    "  - numpy to do some numerical operations\n",
    "  - pandas for cleaning and other processings needed by the data\n",
    "  - matplotlib for visualizing if there's a need to\n",
    "  - re[regular expressions for doing some cleaning on the text data itself:\n",
    "    - to remove some prefix and suffixes\n",
    "    - to remove emoji like comments\n",
    "    - to remove @ keyword etc\n",
    "  - bs4 to scrape the the website for the slangs used by Nigerians\n",
    "  - requests needed for the url of websites needed for scraping"
   ]
  },
  {
   "cell_type": "code",
   "execution_count": 72,
   "metadata": {
    "id": "nmqm5CySJ3bI"
   },
   "outputs": [],
   "source": [
    "from collections import Counter\n",
    "from itertools import combinations\n",
    "import requests\n",
    "import re\n",
    "import numpy as np\n",
    "import pandas as pd\n",
    "from bs4 import BeautifulSoup as bs\n",
    "import nltk.corpus\n",
    "from nltk.corpus import stopwords\n",
    "import nltk\n",
    "from nltk.stem.porter import PorterStemmer\n",
    "from nltk.stem import WordNetLemmatizer\n",
    "from sklearn.model_selection import train_test_split\n",
    "from sklearn.naive_bayes import GaussianNB\n",
    "from sklearn.linear_model import LogisticRegression\n",
    "from sklearn.feature_extraction.text import CountVectorizer\n",
    "from sklearn.metrics import accuracy_score, confusion_matrix, classification_report"
   ]
  },
  {
   "attachments": {},
   "cell_type": "markdown",
   "metadata": {
    "id": "x8CmJk-LqZ7X"
   },
   "source": [
    "# Scraping process"
   ]
  },
  {
   "cell_type": "code",
   "execution_count": 73,
   "metadata": {
    "id": "768o4VvUKFd2"
   },
   "outputs": [],
   "source": [
    "url = \"https://insight.ng/spice/nigerian-slangs-dictionary/\"\n",
    "req = requests.get(url)\n",
    "soup = bs(req.text, \"html.parser\")\n",
    "slangs = soup.find(\"ul\", attrs = {\"class\": \"ez-toc-list-level-3\"} )"
   ]
  },
  {
   "attachments": {},
   "cell_type": "markdown",
   "metadata": {
    "id": "OXbUmwXyqemJ"
   },
   "source": [
    "# Creating a list for slang from the first website."
   ]
  },
  {
   "cell_type": "code",
   "execution_count": 74,
   "metadata": {
    "colab": {
     "base_uri": "https://localhost:8080/"
    },
    "id": "X-oKNUIJKTA2",
    "outputId": "ad64cd34-cdc9-4174-b34c-7ca4a5613e48"
   },
   "outputs": [
    {
     "data": {
      "text/plain": [
       "56"
      ]
     },
     "execution_count": 74,
     "metadata": {},
     "output_type": "execute_result"
    }
   ],
   "source": [
    "slang_list = []\n",
    "for slang in slangs.select('a'):\n",
    "  slang_list.append(slang.text)\n",
    "# print(slang_list)\n",
    "len(slang_list)"
   ]
  },
  {
   "cell_type": "code",
   "execution_count": 75,
   "metadata": {
    "id": "xokOZ5AnoKor"
   },
   "outputs": [],
   "source": [
    "new_slang_list = []\n",
    "for word in slang_list:\n",
    "  word = word.split('/')\n",
    "  new_slang_list.extend(word)"
   ]
  },
  {
   "cell_type": "code",
   "execution_count": 76,
   "metadata": {
    "id": "EFhdx2xbqUq3"
   },
   "outputs": [],
   "source": [
    "cleaned_slang_list_1 = []\n",
    "for word in new_slang_list:\n",
    "  word = word.replace('\\xa0', '')\n",
    "  word =  word.replace('.','')\n",
    "  word = word.replace(':','')\n",
    "  word = re.sub(\"\\d+\", '',word)\n",
    "  word = word.strip()\n",
    "  cleaned_slang_list_1.append(word)"
   ]
  },
  {
   "attachments": {},
   "cell_type": "markdown",
   "metadata": {
    "id": "xPJh9BloqoNV"
   },
   "source": [
    "# Cleaning the texts gotten from the website for easier processing."
   ]
  },
  {
   "cell_type": "code",
   "execution_count": 77,
   "metadata": {
    "id": "slGeD9-nrPjx"
   },
   "outputs": [],
   "source": [
    "unknown = ['About Author','Latest entries','+']\n",
    "for word in cleaned_slang_list_1:\n",
    "  if word in unknown:\n",
    "    cleaned_slang_list_1.remove(word)"
   ]
  },
  {
   "attachments": {},
   "cell_type": "markdown",
   "metadata": {
    "id": "xifScz4oqxOh"
   },
   "source": [
    "### 58 Texts gotten from the first website after scraping."
   ]
  },
  {
   "cell_type": "code",
   "execution_count": 78,
   "metadata": {
    "colab": {
     "base_uri": "https://localhost:8080/"
    },
    "id": "ZaIoVNwfwUpk",
    "outputId": "e423ed12-a881-4756-a35e-3e348eace67b"
   },
   "outputs": [
    {
     "data": {
      "text/plain": [
       "58"
      ]
     },
     "execution_count": 78,
     "metadata": {},
     "output_type": "execute_result"
    }
   ],
   "source": [
    "len(cleaned_slang_list_1)"
   ]
  },
  {
   "cell_type": "code",
   "execution_count": null,
   "metadata": {
    "id": "N6WKNhuB8II_"
   },
   "outputs": [],
   "source": []
  },
  {
   "attachments": {},
   "cell_type": "markdown",
   "metadata": {
    "id": "nKM8660Tq3d8"
   },
   "source": [
    "# Scraping process for the second website"
   ]
  },
  {
   "cell_type": "code",
   "execution_count": 79,
   "metadata": {
    "id": "sz3IzxPUC_bC"
   },
   "outputs": [],
   "source": [
    "slangs_2_list = []\n",
    "\n",
    "url_2 = \"https://www.skabash.com/popular-nigerian-slangs-and-their-meanings/\"\n",
    "req_2 = requests.get(url_2)\n",
    "soup_2 = bs(req_2.text, \"html.parser\")\n",
    "slangs_2 = soup_2.find(\"div\", attrs={\"class\":\"lwptoc_items lwptoc_items-visible\"})\n",
    "\n",
    "for element in slangs_2.find(\"div\").select(\"div\"):\n",
    "  slangs_2_list.append(element.find('a').text)"
   ]
  },
  {
   "cell_type": "code",
   "execution_count": 80,
   "metadata": {
    "id": "6Rt1ma44DF9C"
   },
   "outputs": [],
   "source": [
    "new_slang_list_2 = []\n",
    "\n",
    "for slang in slangs_2_list:\n",
    "  slang = slang.replace('\\n', '')\n",
    "  slang = re.sub('\\d','',slang)\n",
    "  slang = slang.replace('.', '')\n",
    "  new_slang_list_2.append(slang)"
   ]
  },
  {
   "cell_type": "code",
   "execution_count": 81,
   "metadata": {
    "id": "P99f4dY5DIXJ"
   },
   "outputs": [],
   "source": [
    "new_slang_list_2.remove(\"Popular Nigerian slangs that are trending\")"
   ]
  },
  {
   "cell_type": "code",
   "execution_count": 82,
   "metadata": {
    "id": "y8pf_heULLCE"
   },
   "outputs": [],
   "source": [
    "new_slang_list_2 = list(set(new_slang_list_2))\n",
    "\n",
    "cleaned_slang_list_2 = []\n",
    "for word in new_slang_list_2:\n",
    "  word = word.split('/')\n",
    "  cleaned_slang_list_2.extend(word)"
   ]
  },
  {
   "attachments": {},
   "cell_type": "markdown",
   "metadata": {
    "id": "7EiPzi0qq835"
   },
   "source": [
    "### 33 slangs gotten from the second website"
   ]
  },
  {
   "cell_type": "code",
   "execution_count": 83,
   "metadata": {
    "colab": {
     "base_uri": "https://localhost:8080/"
    },
    "id": "stG106VDMRuC",
    "outputId": "f4f6b8c9-e308-4844-856d-7636e2ab0db8"
   },
   "outputs": [
    {
     "data": {
      "text/plain": [
       "33"
      ]
     },
     "execution_count": 83,
     "metadata": {},
     "output_type": "execute_result"
    }
   ],
   "source": [
    "len(cleaned_slang_list_2)"
   ]
  },
  {
   "attachments": {},
   "cell_type": "markdown",
   "metadata": {
    "id": "lG-fXv0drCFj"
   },
   "source": [
    "### Combining the two slang lists into a single list by mere list addition"
   ]
  },
  {
   "cell_type": "code",
   "execution_count": 84,
   "metadata": {
    "colab": {
     "base_uri": "https://localhost:8080/"
    },
    "id": "KbiAxgCEMz7Z",
    "outputId": "7e50ae1a-7ab7-48a2-969a-4b451729c213"
   },
   "outputs": [
    {
     "data": {
      "text/plain": [
       "91"
      ]
     },
     "execution_count": 84,
     "metadata": {},
     "output_type": "execute_result"
    }
   ],
   "source": [
    "long_list = cleaned_slang_list_1 + cleaned_slang_list_2\n",
    "len(long_list)"
   ]
  },
  {
   "cell_type": "code",
   "execution_count": 85,
   "metadata": {},
   "outputs": [],
   "source": [
    "short_list = [\"really very good\", \"very great and nice\", \"pretty nice\",\n",
    "              \"God bless\", \"pretty nice\", \"better things\", \"Lord is good\", \"Bright and beautiful\", \"going well\",\n",
    "             \"soft life\", \"good news\", \"greater things\"]"
   ]
  },
  {
   "attachments": {},
   "cell_type": "markdown",
   "metadata": {
    "id": "GRePpJ4ErIAo"
   },
   "source": [
    "# SCRAPING THE **TWITTER** WEB IN SEARCH OF THE TWEETS THAT CONTAINS THE ABOVE WORDS USING __SNSCRAPE__ LIBRARY"
   ]
  },
  {
   "cell_type": "code",
   "execution_count": 86,
   "metadata": {
    "colab": {
     "base_uri": "https://localhost:8080/"
    },
    "id": "uwC5FgidQji_",
    "outputId": "69ffa23c-7910-454b-ce7a-f786574a1353"
   },
   "outputs": [
    {
     "name": "stdout",
     "output_type": "stream",
     "text": [
      "Requirement already satisfied: snscrape in c:\\users\\oyeni\\anaconda3\\lib\\site-packages (0.6.2.20230320)\n",
      "Requirement already satisfied: beautifulsoup4 in c:\\users\\oyeni\\anaconda3\\lib\\site-packages (from snscrape) (4.11.1)\n",
      "Requirement already satisfied: lxml in c:\\users\\oyeni\\anaconda3\\lib\\site-packages (from snscrape) (4.9.1)\n",
      "Requirement already satisfied: filelock in c:\\users\\oyeni\\anaconda3\\lib\\site-packages (from snscrape) (3.6.0)\n",
      "Requirement already satisfied: requests[socks] in c:\\users\\oyeni\\anaconda3\\lib\\site-packages (from snscrape) (2.28.1)\n",
      "Requirement already satisfied: soupsieve>1.2 in c:\\users\\oyeni\\anaconda3\\lib\\site-packages (from beautifulsoup4->snscrape) (2.3.1)\n",
      "Requirement already satisfied: charset-normalizer<3,>=2 in c:\\users\\oyeni\\anaconda3\\lib\\site-packages (from requests[socks]->snscrape) (2.0.4)\n",
      "Requirement already satisfied: certifi>=2017.4.17 in c:\\users\\oyeni\\anaconda3\\lib\\site-packages (from requests[socks]->snscrape) (2022.9.14)\n",
      "Requirement already satisfied: urllib3<1.27,>=1.21.1 in c:\\users\\oyeni\\anaconda3\\lib\\site-packages (from requests[socks]->snscrape) (1.26.11)\n",
      "Requirement already satisfied: idna<4,>=2.5 in c:\\users\\oyeni\\anaconda3\\lib\\site-packages (from requests[socks]->snscrape) (3.3)\n",
      "Requirement already satisfied: PySocks!=1.5.7,>=1.5.6 in c:\\users\\oyeni\\anaconda3\\lib\\site-packages (from requests[socks]->snscrape) (1.7.1)\n"
     ]
    }
   ],
   "source": [
    "!pip install snscrape"
   ]
  },
  {
   "cell_type": "code",
   "execution_count": 87,
   "metadata": {
    "id": "BdUiLgOKM08o"
   },
   "outputs": [],
   "source": [
    "import snscrape.modules.twitter as snstwitter"
   ]
  },
  {
   "attachments": {},
   "cell_type": "markdown",
   "metadata": {
    "id": "YEcrGAlGrZZ6"
   },
   "source": [
    "# THE SCRAPING PROCESS\n",
    "\n",
    "  - The list was gotten by specifying the country's location via the coordinates as shown with the variable loc."
   ]
  },
  {
   "cell_type": "code",
   "execution_count": 88,
   "metadata": {
    "colab": {
     "base_uri": "https://localhost:8080/"
    },
    "id": "lA7AedXfPRvY",
    "outputId": "183c448b-f946-4e16-c444-d64405cbdde4"
   },
   "outputs": [],
   "source": [
    "# loc = '9.077751, 8.6774567, 100km'\n",
    "# tweet_list = []\n",
    "# for word in long_list:\n",
    "#   for i, item in enumerate(snstwitter.TwitterSearchScraper('{} geocode:\"{}\"'.format(word, loc)).get_items()):\n",
    "#     if i > 150:\n",
    "#       break\n",
    "#     tweet_list.append([item.content, item.likeCount, item.user.location])\n",
    "# df = pd.DataFrame(tweet_list, columns = [\"tweets\", \"likes\", \"location\"])\n",
    "# df.to_csv(\"slang_tweets_1.csv\")"
   ]
  },
  {
   "cell_type": "code",
   "execution_count": 89,
   "metadata": {},
   "outputs": [],
   "source": [
    "# loc = '9.077751, 8.6774567, 100km'\n",
    "# tweet_list = []\n",
    "# for word in short_list:\n",
    "#   for i, item in enumerate(snstwitter.TwitterSearchScraper('{} geocode:\"{}\"'.format(word, loc)).get_items()):\n",
    "#     if i > 150:\n",
    "#       break\n",
    "#     tweet_list.append([item.content, item.likeCount, item.user.location])\n",
    "# df_short = pd.DataFrame(tweet_list, columns = [\"tweets\", \"likes\", \"location\"])\n",
    "# df_short.to_csv(\"slang_tweets_2.csv\")"
   ]
  },
  {
   "cell_type": "code",
   "execution_count": 90,
   "metadata": {
    "colab": {
     "base_uri": "https://localhost:8080/"
    },
    "id": "Zh9RHE6qXWQQ",
    "outputId": "3eafc259-bc26-43c7-9c4f-ff13279c06b2",
    "scrolled": true
   },
   "outputs": [
    {
     "data": {
      "text/html": [
       "<div>\n",
       "<style scoped>\n",
       "    .dataframe tbody tr th:only-of-type {\n",
       "        vertical-align: middle;\n",
       "    }\n",
       "\n",
       "    .dataframe tbody tr th {\n",
       "        vertical-align: top;\n",
       "    }\n",
       "\n",
       "    .dataframe thead th {\n",
       "        text-align: right;\n",
       "    }\n",
       "</style>\n",
       "<table border=\"1\" class=\"dataframe\">\n",
       "  <thead>\n",
       "    <tr style=\"text-align: right;\">\n",
       "      <th></th>\n",
       "      <th>Unnamed: 0</th>\n",
       "      <th>tweets</th>\n",
       "      <th>likes</th>\n",
       "      <th>location</th>\n",
       "    </tr>\n",
       "  </thead>\n",
       "  <tbody>\n",
       "    <tr>\n",
       "      <th>0</th>\n",
       "      <td>0</td>\n",
       "      <td>@AITraderGlobal Very brilliant &amp;amp; interesti...</td>\n",
       "      <td>0</td>\n",
       "      <td>Abuja</td>\n",
       "    </tr>\n",
       "    <tr>\n",
       "      <th>1</th>\n",
       "      <td>1</td>\n",
       "      <td>Men really love the mean girls. And I’m super ...</td>\n",
       "      <td>0</td>\n",
       "      <td>Abuja, Nigeria</td>\n",
       "    </tr>\n",
       "    <tr>\n",
       "      <th>2</th>\n",
       "      <td>2</td>\n",
       "      <td>@khadijaarrh U really did a very good job dear</td>\n",
       "      <td>0</td>\n",
       "      <td>Jos, Nigeria</td>\n",
       "    </tr>\n",
       "    <tr>\n",
       "      <th>3</th>\n",
       "      <td>3</td>\n",
       "      <td>@AITraderGlobal Very brilliant &amp;amp; interesti...</td>\n",
       "      <td>3</td>\n",
       "      <td>Abuja,Nigeria</td>\n",
       "    </tr>\n",
       "    <tr>\n",
       "      <th>4</th>\n",
       "      <td>4</td>\n",
       "      <td>@NastyBlaq Thank you very much @NastyBlaq  eve...</td>\n",
       "      <td>0</td>\n",
       "      <td>Abuja, Nigeria</td>\n",
       "    </tr>\n",
       "    <tr>\n",
       "      <th>5</th>\n",
       "      <td>5</td>\n",
       "      <td>@brownelixir It’s so good. Bar Insecure, I can...</td>\n",
       "      <td>0</td>\n",
       "      <td>NaN</td>\n",
       "    </tr>\n",
       "    <tr>\n",
       "      <th>6</th>\n",
       "      <td>6</td>\n",
       "      <td>@silasadedoyin @Abiodun0x 1. It’s very possibl...</td>\n",
       "      <td>0</td>\n",
       "      <td>Abuja, Nigeria</td>\n",
       "    </tr>\n",
       "    <tr>\n",
       "      <th>7</th>\n",
       "      <td>7</td>\n",
       "      <td>even after such a traumatic near death experie...</td>\n",
       "      <td>0</td>\n",
       "      <td>Abuja, Nigeria</td>\n",
       "    </tr>\n",
       "    <tr>\n",
       "      <th>8</th>\n",
       "      <td>8</td>\n",
       "      <td>@JefferyAnkamah @phil_Adesh @AkosuaAmpofowah G...</td>\n",
       "      <td>2</td>\n",
       "      <td>Federal Capital Territory</td>\n",
       "    </tr>\n",
       "    <tr>\n",
       "      <th>9</th>\n",
       "      <td>9</td>\n",
       "      <td>@con2etal 😂 the man dey give me joy shaa..I re...</td>\n",
       "      <td>1</td>\n",
       "      <td>Abuja, Nigeria</td>\n",
       "    </tr>\n",
       "    <tr>\n",
       "      <th>10</th>\n",
       "      <td>10</td>\n",
       "      <td>@jon_d_doe @teejay347t \"Very ideal o. Obviousl...</td>\n",
       "      <td>1</td>\n",
       "      <td>Abuja, Nigeria</td>\n",
       "    </tr>\n",
       "    <tr>\n",
       "      <th>11</th>\n",
       "      <td>11</td>\n",
       "      <td>@xygort Exactly. I really love hometown. It ma...</td>\n",
       "      <td>0</td>\n",
       "      <td>Abuja, Nigeria</td>\n",
       "    </tr>\n",
       "    <tr>\n",
       "      <th>12</th>\n",
       "      <td>12</td>\n",
       "      <td>Really, it pays very well to govern well, I ju...</td>\n",
       "      <td>0</td>\n",
       "      <td>Abuja, Nigeria</td>\n",
       "    </tr>\n",
       "    <tr>\n",
       "      <th>13</th>\n",
       "      <td>13</td>\n",
       "      <td>My G, you’re always a good commander @zaMusbey...</td>\n",
       "      <td>60</td>\n",
       "      <td>Kaduna, Nigeria</td>\n",
       "    </tr>\n",
       "    <tr>\n",
       "      <th>14</th>\n",
       "      <td>14</td>\n",
       "      <td>@Naija_PR @cool_yaks This is very good coming ...</td>\n",
       "      <td>14</td>\n",
       "      <td>Abuja</td>\n",
       "    </tr>\n",
       "    <tr>\n",
       "      <th>15</th>\n",
       "      <td>15</td>\n",
       "      <td>@dashofPinknLove @Tofunmi_eb @mytakesbbn6 And ...</td>\n",
       "      <td>1</td>\n",
       "      <td>Abuja, Nigeria</td>\n",
       "    </tr>\n",
       "    <tr>\n",
       "      <th>16</th>\n",
       "      <td>16</td>\n",
       "      <td>@Feyisparkles @stgorzhye Very good so the Exod...</td>\n",
       "      <td>12</td>\n",
       "      <td>Abuja, Nigeria</td>\n",
       "    </tr>\n",
       "    <tr>\n",
       "      <th>17</th>\n",
       "      <td>17</td>\n",
       "      <td>@Sir_Fin @TousenCollins That Ihenacho bit is a...</td>\n",
       "      <td>0</td>\n",
       "      <td>Abuja, Nigeria</td>\n",
       "    </tr>\n",
       "    <tr>\n",
       "      <th>18</th>\n",
       "      <td>18</td>\n",
       "      <td>@DarrenBent The VAR is very inconsistent and i...</td>\n",
       "      <td>0</td>\n",
       "      <td>Jos, Nigeria</td>\n",
       "    </tr>\n",
       "    <tr>\n",
       "      <th>19</th>\n",
       "      <td>19</td>\n",
       "      <td>@WoleOluyemiCo I am really sorry bit this pray...</td>\n",
       "      <td>0</td>\n",
       "      <td>Abuja, Nigeria</td>\n",
       "    </tr>\n",
       "  </tbody>\n",
       "</table>\n",
       "</div>"
      ],
      "text/plain": [
       "    Unnamed: 0                                             tweets  likes  \\\n",
       "0            0  @AITraderGlobal Very brilliant &amp; interesti...      0   \n",
       "1            1  Men really love the mean girls. And I’m super ...      0   \n",
       "2            2     @khadijaarrh U really did a very good job dear      0   \n",
       "3            3  @AITraderGlobal Very brilliant &amp; interesti...      3   \n",
       "4            4  @NastyBlaq Thank you very much @NastyBlaq  eve...      0   \n",
       "5            5  @brownelixir It’s so good. Bar Insecure, I can...      0   \n",
       "6            6  @silasadedoyin @Abiodun0x 1. It’s very possibl...      0   \n",
       "7            7  even after such a traumatic near death experie...      0   \n",
       "8            8  @JefferyAnkamah @phil_Adesh @AkosuaAmpofowah G...      2   \n",
       "9            9  @con2etal 😂 the man dey give me joy shaa..I re...      1   \n",
       "10          10  @jon_d_doe @teejay347t \"Very ideal o. Obviousl...      1   \n",
       "11          11  @xygort Exactly. I really love hometown. It ma...      0   \n",
       "12          12  Really, it pays very well to govern well, I ju...      0   \n",
       "13          13  My G, you’re always a good commander @zaMusbey...     60   \n",
       "14          14  @Naija_PR @cool_yaks This is very good coming ...     14   \n",
       "15          15  @dashofPinknLove @Tofunmi_eb @mytakesbbn6 And ...      1   \n",
       "16          16  @Feyisparkles @stgorzhye Very good so the Exod...     12   \n",
       "17          17  @Sir_Fin @TousenCollins That Ihenacho bit is a...      0   \n",
       "18          18  @DarrenBent The VAR is very inconsistent and i...      0   \n",
       "19          19  @WoleOluyemiCo I am really sorry bit this pray...      0   \n",
       "\n",
       "                     location  \n",
       "0                       Abuja  \n",
       "1              Abuja, Nigeria  \n",
       "2                Jos, Nigeria  \n",
       "3               Abuja,Nigeria  \n",
       "4              Abuja, Nigeria  \n",
       "5                         NaN  \n",
       "6              Abuja, Nigeria  \n",
       "7              Abuja, Nigeria  \n",
       "8   Federal Capital Territory  \n",
       "9              Abuja, Nigeria  \n",
       "10             Abuja, Nigeria  \n",
       "11             Abuja, Nigeria  \n",
       "12             Abuja, Nigeria  \n",
       "13            Kaduna, Nigeria  \n",
       "14                      Abuja  \n",
       "15             Abuja, Nigeria  \n",
       "16             Abuja, Nigeria  \n",
       "17             Abuja, Nigeria  \n",
       "18               Jos, Nigeria  \n",
       "19             Abuja, Nigeria  "
      ]
     },
     "execution_count": 90,
     "metadata": {},
     "output_type": "execute_result"
    }
   ],
   "source": [
    "df = pd.read_csv(\"slang_tweets_1.csv\")\n",
    "df_short = pd.read_csv(\"slang_tweets_2.csv\")\n",
    "df_short.head(20)"
   ]
  },
  {
   "cell_type": "code",
   "execution_count": 91,
   "metadata": {},
   "outputs": [],
   "source": [
    "df_short['class'] = 'non bullying'\n",
    "df['class'] = 'bullying'\n",
    "\n",
    "df_short['label'] = 0\n",
    "df['label'] = 1"
   ]
  },
  {
   "cell_type": "code",
   "execution_count": 92,
   "metadata": {},
   "outputs": [],
   "source": [
    "df_total = pd.concat([df, df_short], axis=0, ignore_index=True)"
   ]
  },
  {
   "cell_type": "code",
   "execution_count": 93,
   "metadata": {},
   "outputs": [
    {
     "data": {
      "text/html": [
       "<div>\n",
       "<style scoped>\n",
       "    .dataframe tbody tr th:only-of-type {\n",
       "        vertical-align: middle;\n",
       "    }\n",
       "\n",
       "    .dataframe tbody tr th {\n",
       "        vertical-align: top;\n",
       "    }\n",
       "\n",
       "    .dataframe thead th {\n",
       "        text-align: right;\n",
       "    }\n",
       "</style>\n",
       "<table border=\"1\" class=\"dataframe\">\n",
       "  <thead>\n",
       "    <tr style=\"text-align: right;\">\n",
       "      <th></th>\n",
       "      <th>Unnamed: 0</th>\n",
       "      <th>tweets</th>\n",
       "      <th>likes</th>\n",
       "      <th>location</th>\n",
       "      <th>class</th>\n",
       "      <th>label</th>\n",
       "    </tr>\n",
       "  </thead>\n",
       "  <tbody>\n",
       "    <tr>\n",
       "      <th>0</th>\n",
       "      <td>0</td>\n",
       "      <td>Kue kueee sapa mau kueeee 🍪\\nberbukalah dgn jo...</td>\n",
       "      <td>0</td>\n",
       "      <td>Jeje</td>\n",
       "      <td>bullying</td>\n",
       "      <td>1</td>\n",
       "    </tr>\n",
       "    <tr>\n",
       "      <th>1</th>\n",
       "      <td>1</td>\n",
       "      <td>How yesterday ended 🥰🥰\\n\\nHaving daily sales k...</td>\n",
       "      <td>1</td>\n",
       "      <td>Abuja, Nigeria</td>\n",
       "      <td>bullying</td>\n",
       "      <td>1</td>\n",
       "    </tr>\n",
       "    <tr>\n",
       "      <th>2</th>\n",
       "      <td>2</td>\n",
       "      <td>@JayneCint This garri get sapa inside ooo😂😂😂 m...</td>\n",
       "      <td>0</td>\n",
       "      <td>Abuja Nigeria</td>\n",
       "      <td>bullying</td>\n",
       "      <td>1</td>\n",
       "    </tr>\n",
       "    <tr>\n",
       "      <th>3</th>\n",
       "      <td>3</td>\n",
       "      <td>@dammiedammie35 Na sapa cause this one for the...</td>\n",
       "      <td>1</td>\n",
       "      <td>Lagos/Abuja</td>\n",
       "      <td>bullying</td>\n",
       "      <td>1</td>\n",
       "    </tr>\n",
       "    <tr>\n",
       "      <th>4</th>\n",
       "      <td>4</td>\n",
       "      <td>@yabaleftonline AMP: My God I plead (I beg you...</td>\n",
       "      <td>0</td>\n",
       "      <td>Abuja</td>\n",
       "      <td>bullying</td>\n",
       "      <td>1</td>\n",
       "    </tr>\n",
       "    <tr>\n",
       "      <th>...</th>\n",
       "      <td>...</td>\n",
       "      <td>...</td>\n",
       "      <td>...</td>\n",
       "      <td>...</td>\n",
       "      <td>...</td>\n",
       "      <td>...</td>\n",
       "    </tr>\n",
       "    <tr>\n",
       "      <th>12500</th>\n",
       "      <td>1260</td>\n",
       "      <td>@RealDreylo Davido on your WhatsApp contact ca...</td>\n",
       "      <td>0</td>\n",
       "      <td>NaN</td>\n",
       "      <td>non bullying</td>\n",
       "      <td>0</td>\n",
       "    </tr>\n",
       "    <tr>\n",
       "      <th>12501</th>\n",
       "      <td>1261</td>\n",
       "      <td>@TundeTASH Happy anniversary amazing souls, ma...</td>\n",
       "      <td>1</td>\n",
       "      <td>Abuja, Nigeria</td>\n",
       "      <td>non bullying</td>\n",
       "      <td>0</td>\n",
       "    </tr>\n",
       "    <tr>\n",
       "      <th>12502</th>\n",
       "      <td>1262</td>\n",
       "      <td>Trust that greater things are aligning for you!!!</td>\n",
       "      <td>281</td>\n",
       "      <td>Canada</td>\n",
       "      <td>non bullying</td>\n",
       "      <td>0</td>\n",
       "    </tr>\n",
       "    <tr>\n",
       "      <th>12503</th>\n",
       "      <td>1263</td>\n",
       "      <td>Innoson got this far without the government, h...</td>\n",
       "      <td>1</td>\n",
       "      <td>Abuja, Nigeria</td>\n",
       "      <td>non bullying</td>\n",
       "      <td>0</td>\n",
       "    </tr>\n",
       "    <tr>\n",
       "      <th>12504</th>\n",
       "      <td>1264</td>\n",
       "      <td>@dawisu Trust me it will be.. if you continue ...</td>\n",
       "      <td>0</td>\n",
       "      <td>Troy, AL</td>\n",
       "      <td>non bullying</td>\n",
       "      <td>0</td>\n",
       "    </tr>\n",
       "  </tbody>\n",
       "</table>\n",
       "<p>12505 rows × 6 columns</p>\n",
       "</div>"
      ],
      "text/plain": [
       "       Unnamed: 0                                             tweets  likes  \\\n",
       "0               0  Kue kueee sapa mau kueeee 🍪\\nberbukalah dgn jo...      0   \n",
       "1               1  How yesterday ended 🥰🥰\\n\\nHaving daily sales k...      1   \n",
       "2               2  @JayneCint This garri get sapa inside ooo😂😂😂 m...      0   \n",
       "3               3  @dammiedammie35 Na sapa cause this one for the...      1   \n",
       "4               4  @yabaleftonline AMP: My God I plead (I beg you...      0   \n",
       "...           ...                                                ...    ...   \n",
       "12500        1260  @RealDreylo Davido on your WhatsApp contact ca...      0   \n",
       "12501        1261  @TundeTASH Happy anniversary amazing souls, ma...      1   \n",
       "12502        1262  Trust that greater things are aligning for you!!!    281   \n",
       "12503        1263  Innoson got this far without the government, h...      1   \n",
       "12504        1264  @dawisu Trust me it will be.. if you continue ...      0   \n",
       "\n",
       "             location         class  label  \n",
       "0                Jeje      bullying      1  \n",
       "1      Abuja, Nigeria      bullying      1  \n",
       "2       Abuja Nigeria      bullying      1  \n",
       "3         Lagos/Abuja      bullying      1  \n",
       "4               Abuja      bullying      1  \n",
       "...               ...           ...    ...  \n",
       "12500             NaN  non bullying      0  \n",
       "12501  Abuja, Nigeria  non bullying      0  \n",
       "12502          Canada  non bullying      0  \n",
       "12503  Abuja, Nigeria  non bullying      0  \n",
       "12504        Troy, AL  non bullying      0  \n",
       "\n",
       "[12505 rows x 6 columns]"
      ]
     },
     "execution_count": 93,
     "metadata": {},
     "output_type": "execute_result"
    }
   ],
   "source": [
    "df_total"
   ]
  },
  {
   "attachments": {},
   "cell_type": "markdown",
   "metadata": {
    "id": "seYVln8U2qSM"
   },
   "source": [
    "### Making a copy of the dataset"
   ]
  },
  {
   "cell_type": "code",
   "execution_count": 94,
   "metadata": {
    "colab": {
     "base_uri": "https://localhost:8080/",
     "height": 165
    },
    "id": "GPLIvZ762o9J",
    "outputId": "71999994-de3f-4689-eb5a-22571ef5505c"
   },
   "outputs": [],
   "source": [
    "df_1 = df_total.copy()"
   ]
  },
  {
   "attachments": {},
   "cell_type": "markdown",
   "metadata": {
    "id": "IH7lEQ_mouR8"
   },
   "source": [
    "# **CLEANING THE TEXT DATA**\n",
    "### The Text data needs to be cleaned before being fed into the model for training and testing.\n",
    "    - Normalizing \n",
    "    - Remove Unicode Characters\n",
    "    - Remove Stopwords\n",
    "    - Perform Stemming\n",
    "    - Lemmatization"
   ]
  },
  {
   "attachments": {},
   "cell_type": "markdown",
   "metadata": {
    "id": "ZoO5jYXboXC9"
   },
   "source": [
    "**Normalizing the texts..**\n",
    "  - changing all to lowercases also known as _case normalization_\n",
    "    - creating a function to used for changing the case to a lowercase."
   ]
  },
  {
   "cell_type": "code",
   "execution_count": 95,
   "metadata": {
    "id": "R7CFStpCoeXA"
   },
   "outputs": [],
   "source": [
    "def lowercase(text):\n",
    "  text = text.lower()\n",
    "  return text"
   ]
  },
  {
   "attachments": {},
   "cell_type": "markdown",
   "metadata": {
    "id": "wBXtyATpssxe"
   },
   "source": [
    "**Removing Unicode Characters**\n",
    "  - Creating a function to remove unicode characters\n",
    "    - This function uses regular expression library"
   ]
  },
  {
   "cell_type": "code",
   "execution_count": 96,
   "metadata": {
    "id": "hS38jjfHsrDi"
   },
   "outputs": [],
   "source": [
    "def unicode_removal(text):\n",
    "  text = re.sub(r\"(@\\[A-Za-z0-9]+)|([^0-9A-Za-z \\t])|(\\w+:\\/\\/\\S+)|^rt|http.+?\", \"\", text)\n",
    "  return text"
   ]
  },
  {
   "attachments": {},
   "cell_type": "markdown",
   "metadata": {
    "id": "xmOHc9EGtgpy"
   },
   "source": [
    "# **STOP WORDS**\n",
    "#### Stopwords are the most common words in any natural language. For the purpose of analyzing text data and building NLP models, these stopwords might not add much value to the meaning of the document. Generally, the most common words used in a text are “the”, “is”, “in”, “for”, “where”, “when”, “to”, “at” etc. "
   ]
  },
  {
   "attachments": {},
   "cell_type": "markdown",
   "metadata": {
    "id": "7anwURsAtFp3"
   },
   "source": [
    "**Removing Stopwords**\n",
    "  - Creating a function to remove the stop words\n",
    "    - This function uses the Natural Language ToolKit library "
   ]
  },
  {
   "cell_type": "code",
   "execution_count": 97,
   "metadata": {
    "id": "dDio_bL3tEOG"
   },
   "outputs": [
    {
     "name": "stderr",
     "output_type": "stream",
     "text": [
      "[nltk_data] Downloading package stopwords to\n",
      "[nltk_data]     C:\\Users\\oyeni\\AppData\\Roaming\\nltk_data...\n",
      "[nltk_data]   Package stopwords is already up-to-date!\n"
     ]
    }
   ],
   "source": [
    "# downloading the stopwords needed\n",
    "nltk.download('stopwords')\n",
    "\n",
    "def stopwords_removal(text):\n",
    "  stop = stopwords.words('english')\n",
    "  text = \" \".join([word for word in text.split() if word not in (stop)])\n",
    "  return text"
   ]
  },
  {
   "attachments": {},
   "cell_type": "markdown",
   "metadata": {
    "id": "fQVXP4r3vNYI"
   },
   "source": [
    "# Stemming\n",
    "\n",
    "#### Stemming nvolves grouping of words by their root stem. This makes it clear or helps recognize that ‘jumping’ ‘jumps’ and ‘jumped’ are all rooted to the same verb (jump) and thus are referring to similar problems.\n",
    "  - Creating a function to stem the texts."
   ]
  },
  {
   "cell_type": "code",
   "execution_count": 98,
   "metadata": {
    "id": "le-mg_VcuXWU"
   },
   "outputs": [],
   "source": [
    "def stemming(text):\n",
    "  stemmer = PorterStemmer()\n",
    "  text = \" \".join([stemmer.stem(word) for word in text.split()])\n",
    "  return text"
   ]
  },
  {
   "attachments": {},
   "cell_type": "markdown",
   "metadata": {
    "id": "D4TT60BEvvu5"
   },
   "source": [
    "# Lemmatization\n",
    "\n",
    "#### Lemmatization groups words based on root definition, and helps to differentiate between present, past, and indefinite.\n",
    "\n",
    "#### In order words, ‘jumps’ and ‘jump’ are grouped into the present ‘jump’, as different from all uses of ‘jumped’ which are grouped together as past tense, and all instances of ‘jumping’ which are grouped together as the indefinite (meaning continuing/continuous)."
   ]
  },
  {
   "cell_type": "code",
   "execution_count": 99,
   "metadata": {
    "colab": {
     "base_uri": "https://localhost:8080/"
    },
    "id": "c2l-LIhFwDpB",
    "outputId": "504f163d-d386-4617-df3e-514e25c28271"
   },
   "outputs": [
    {
     "name": "stderr",
     "output_type": "stream",
     "text": [
      "[nltk_data] Downloading package wordnet to\n",
      "[nltk_data]     C:\\Users\\oyeni\\AppData\\Roaming\\nltk_data...\n",
      "[nltk_data]   Package wordnet is already up-to-date!\n"
     ]
    }
   ],
   "source": [
    "nltk.download('wordnet')\n",
    "def lemmatize(text):\n",
    "  lemmatizer = WordNetLemmatizer()\n",
    "  text = \" \".join([lemmatizer.lemmatize(word) for word in text.split()])\n",
    "  return text"
   ]
  },
  {
   "attachments": {},
   "cell_type": "markdown",
   "metadata": {
    "id": "xy9zYvVa2d6L"
   },
   "source": [
    "### Selecting the useful feature we need to train the model."
   ]
  },
  {
   "cell_type": "code",
   "execution_count": 100,
   "metadata": {
    "id": "nCuNsvVu2kO9"
   },
   "outputs": [],
   "source": [
    "x = df_1['tweets']\n",
    "y = df_1['label']"
   ]
  },
  {
   "attachments": {},
   "cell_type": "markdown",
   "metadata": {
    "id": "1aM1K7fz1i96"
   },
   "source": [
    "### Passing the text one by one through each of the functions created above using the lambda function method."
   ]
  },
  {
   "cell_type": "code",
   "execution_count": 101,
   "metadata": {
    "id": "5XYqiBGBxPqS"
   },
   "outputs": [],
   "source": [
    "x = x.apply(lambda x: lowercase(x))\n",
    "x = x.apply(lambda x: unicode_removal(x))\n",
    "x = x.apply(lambda x: stopwords_removal(x))\n",
    "x = x.apply(lambda x: stemming(x))\n",
    "x = x.apply(lambda x: lemmatize(x))"
   ]
  },
  {
   "cell_type": "code",
   "execution_count": null,
   "metadata": {},
   "outputs": [],
   "source": []
  },
  {
   "attachments": {},
   "cell_type": "markdown",
   "metadata": {
    "id": "5ni1Afut2agL"
   },
   "source": [
    "### Splitting the dataset into training and testing sets using the train test split..."
   ]
  },
  {
   "cell_type": "code",
   "execution_count": 102,
   "metadata": {
    "id": "yi_bVMA2xa2c"
   },
   "outputs": [],
   "source": [
    "x_train, x_test, y_train, y_test =  train_test_split(x, y, test_size=0.3, random_state=40)"
   ]
  },
  {
   "attachments": {},
   "cell_type": "markdown",
   "metadata": {},
   "source": [
    "### Using Count vectorizer to vectorize the preprocessed texts"
   ]
  },
  {
   "cell_type": "code",
   "execution_count": 103,
   "metadata": {},
   "outputs": [],
   "source": [
    "vectorizer =  CountVectorizer()\n",
    "x_train_vect = vectorizer.fit_transform(x_train)"
   ]
  },
  {
   "attachments": {},
   "cell_type": "markdown",
   "metadata": {},
   "source": [
    "### Gaussian Naive Bayes "
   ]
  },
  {
   "cell_type": "code",
   "execution_count": 104,
   "metadata": {},
   "outputs": [
    {
     "data": {
      "text/plain": [
       "GaussianNB()"
      ]
     },
     "execution_count": 104,
     "metadata": {},
     "output_type": "execute_result"
    }
   ],
   "source": [
    "model_gnb = GaussianNB()\n",
    "\n",
    "# fitting \n",
    "model_gnb.fit(x_train_vect.toarray(),y_train)"
   ]
  },
  {
   "attachments": {},
   "cell_type": "markdown",
   "metadata": {},
   "source": [
    "### Testing the model"
   ]
  },
  {
   "cell_type": "code",
   "execution_count": 105,
   "metadata": {},
   "outputs": [],
   "source": [
    "# Gaussian Naive Bayes\n",
    "x_test_vect_gnb = vectorizer.transform(x_test)"
   ]
  },
  {
   "cell_type": "code",
   "execution_count": 106,
   "metadata": {},
   "outputs": [],
   "source": [
    "y_pred_gnb = model_gnb.predict(x_test_vect_gnb.toarray())"
   ]
  },
  {
   "attachments": {},
   "cell_type": "markdown",
   "metadata": {},
   "source": [
    "## Checking the accuracy score\n",
    "###    - f1 score\n",
    "###    - precision\n",
    "###    - recall\n",
    "###    - and the _confusion matrix_"
   ]
  },
  {
   "cell_type": "code",
   "execution_count": 107,
   "metadata": {},
   "outputs": [
    {
     "name": "stdout",
     "output_type": "stream",
     "text": [
      " Gaussian Naive Bayes accuracy score: 0.8382196162046909\n"
     ]
    }
   ],
   "source": [
    "print(\" Gaussian Naive Bayes accuracy score:\", accuracy_score(y_test, y_pred_gnb))"
   ]
  },
  {
   "cell_type": "code",
   "execution_count": 108,
   "metadata": {},
   "outputs": [
    {
     "name": "stdout",
     "output_type": "stream",
     "text": [
      "classification reports:\n",
      "               precision    recall  f1-score   support\n",
      "\n",
      "           0       0.31      0.46      0.37       385\n",
      "           1       0.93      0.88      0.91      3367\n",
      "\n",
      "    accuracy                           0.84      3752\n",
      "   macro avg       0.62      0.67      0.64      3752\n",
      "weighted avg       0.87      0.84      0.85      3752\n",
      "\n"
     ]
    }
   ],
   "source": [
    "print('classification reports:\\n',classification_report(y_test,model_gnb.predict(x_test_vect_gnb.toarray())))"
   ]
  },
  {
   "attachments": {},
   "cell_type": "markdown",
   "metadata": {},
   "source": [
    "##### The GNB model has 84% accuracy"
   ]
  },
  {
   "attachments": {},
   "cell_type": "markdown",
   "metadata": {},
   "source": [
    "     The average prcision value is 93%"
   ]
  },
  {
   "cell_type": "code",
   "execution_count": 110,
   "metadata": {},
   "outputs": [
    {
     "data": {
      "image/png": "[encoded data removed]",
      "text/plain": [
       "<Figure size 800x600 with 1 Axes>"
      ]
     },
     "metadata": {},
     "output_type": "display_data"
    },
    {
     "data": {
      "text/plain": [
       "<Figure size 640x480 with 0 Axes>"
      ]
     },
     "metadata": {},
     "output_type": "display_data"
    }
   ],
   "source": [
    "import numpy as np\n",
    "import matplotlib.pyplot as plt\n",
    "from sklearn.metrics import precision_recall_curve, f1_score\n",
    "\n",
    "# Replace these with your actual predicted probabilities and true labels\n",
    "# predicted_probs should be a 1D array of predicted probabilities for the positive class\n",
    "# true_labels should be a 1D array of true labels (0 for negative class, 1 for positive class)\n",
    "predicted_probs = np.array([0.1, 0.3, 0.4, 0.6, 0.8, 0.2, 0.7, 0.9, 0.5, 0.3])\n",
    "true_labels = np.array([0, 0, 1, 0, 1, 1, 1, 0, 1, 1])\n",
    "\n",
    "# Calculate precision-recall pairs and F1-scores\n",
    "precision_lr, recall_lr, thresholds_lr = precision_recall_curve(y_test, y_pred_gnb)\n",
    "f1_scores = 2 * (precision_lr * recall_lr) / (precision_lr + recall_lr)\n",
    "\n",
    "precision_gnb, recall_gnb, thresholds_gnb = precision_gnb_recall_gnb_curve(y_test, y_pred_gnb)\n",
    "f1_scores = 2 * (precision_gnb * recall_gnb) / (precision_gnb + recall_gnb)\n",
    "\n",
    "# Plot the F1-score graph\n",
    "plt.figure(figsize=(8, 6))\n",
    "plt.plot(thresholds_gnb, f1_scores[:-1], marker='.')\n",
    "plt.xlabel('Threshold')\n",
    "plt.ylabel('F1-score')\n",
    "plt.title('F1-score vs. Threshold')\n",
    "plt.grid(True)\n",
    "plt.xlim([0.0, 1.0])\n",
    "plt.ylim([0.0, 1.0])\n",
    "plt.show()\n",
    "plt.savefig('f1_score_graph.jpg')\n"
   ]
  },
  {
   "attachments": {},
   "cell_type": "markdown",
   "metadata": {},
   "source": [
    "### Saving the vectorizer as a pickle file"
   ]
  },
  {
   "cell_type": "code",
   "execution_count": 111,
   "metadata": {},
   "outputs": [],
   "source": [
    "import pickle\n",
    "\n",
    "# Saving our vectorizer\n",
    "with open(\"vectorizer.pkl\", \"wb\") as vect:\n",
    "    pickle.dump(vectorizer, vect)"
   ]
  },
  {
   "attachments": {},
   "cell_type": "markdown",
   "metadata": {},
   "source": [
    "##### Saving the GNB model as a pickle file"
   ]
  },
  {
   "cell_type": "code",
   "execution_count": 112,
   "metadata": {},
   "outputs": [],
   "source": [
    "# saving the gnb model\n",
    "with open('tweet_gnb.pkl','wb') as myfile_gnb:\n",
    "    pickle.dump(model_gnb,myfile_gnb)\n",
    "\n",
    "with open('tweet_gnb.pkl','rb') as myfile_gnb:\n",
    "    model = pickle.load(myfile_gnb)\n"
   ]
  },
  {
   "attachments": {},
   "cell_type": "markdown",
   "metadata": {},
   "source": [
    "### Logistic Regression Model"
   ]
  },
  {
   "cell_type": "code",
   "execution_count": 113,
   "metadata": {},
   "outputs": [
    {
     "data": {
      "text/plain": [
       "LogisticRegression()"
      ]
     },
     "execution_count": 113,
     "metadata": {},
     "output_type": "execute_result"
    }
   ],
   "source": [
    "# Logistic regression\n",
    "model_lr =  LogisticRegression()\n",
    "\n",
    "# fitting\n",
    "model_lr.fit(x_train_vect.toarray(),y_train)"
   ]
  },
  {
   "cell_type": "code",
   "execution_count": 114,
   "metadata": {},
   "outputs": [],
   "source": [
    "# Logistic regression \n",
    "x_test_vect_lr = vectorizer.transform(x_test)"
   ]
  },
  {
   "cell_type": "code",
   "execution_count": 115,
   "metadata": {},
   "outputs": [],
   "source": [
    "y_pred_lr = model_lr.predict(x_test_vect_lr.toarray())"
   ]
  },
  {
   "cell_type": "code",
   "execution_count": 116,
   "metadata": {},
   "outputs": [
    {
     "name": "stdout",
     "output_type": "stream",
     "text": [
      "Logistic Regression accuracy score: 0.9712153518123667\n"
     ]
    }
   ],
   "source": [
    "print(\"Logistic Regression accuracy score:\", accuracy_score(y_test, y_pred_lr))"
   ]
  },
  {
   "cell_type": "code",
   "execution_count": 117,
   "metadata": {},
   "outputs": [
    {
     "name": "stdout",
     "output_type": "stream",
     "text": [
      "classification reports:\n",
      "               precision    recall  f1-score   support\n",
      "\n",
      "           0       0.91      0.79      0.85       385\n",
      "           1       0.98      0.99      0.98      3367\n",
      "\n",
      "    accuracy                           0.97      3752\n",
      "   macro avg       0.95      0.89      0.92      3752\n",
      "weighted avg       0.97      0.97      0.97      3752\n",
      "\n"
     ]
    }
   ],
   "source": [
    "print('classification reports:\\n',classification_report(y_test,model_lr.predict(x_test_vect_lr.toarray())))"
   ]
  },
  {
   "attachments": {},
   "cell_type": "markdown",
   "metadata": {},
   "source": []
  },
  {
   "attachments": {},
   "cell_type": "markdown",
   "metadata": {},
   "source": [
    "    The comparison between the precision recall curve"
   ]
  },
  {
   "cell_type": "code",
   "execution_count": 147,
   "metadata": {},
   "outputs": [
    {
     "data": {
      "image/png": "[encoded data removed]",
      "text/plain": [
       "<Figure size 800x600 with 1 Axes>"
      ]
     },
     "metadata": {},
     "output_type": "display_data"
    },
    {
     "data": {
      "text/plain": [
       "<Figure size 640x480 with 0 Axes>"
      ]
     },
     "metadata": {},
     "output_type": "display_data"
    }
   ],
   "source": [
    "import matplotlib.pyplot as plt\n",
    "from sklearn.metrics import precision_recall_curve, average_precision_score\n",
    "\n",
    "# Replace these with your actual predicted probabilities and true labels\n",
    "# predicted_probs should be a 1D array of predicted probabilities for the positive class\n",
    "# true_labels should be a 1D array of true labels (0 for negative class, 1 for positive class)\n",
    "# Calculate precision-recall pairs and average precision score\n",
    "precision_lr, recall_lr, thresholds_lr = precision_recall_curve(y_test, y_pred_lr)\n",
    "avg_precision_lr = average_precision_score(y_test, y_pred_lr)\n",
    "\n",
    "precision_gnb, recall_gnb, thresholds_gnb = precision_recall_curve(y_test, y_pred_gnb)\n",
    "avg_precision_gnb = average_precision_score(y_test, y_pred_gnb)\n",
    "\n",
    "# Plot the precision-recall graph\n",
    "plt.figure(figsize=(8, 6))\n",
    "plt.plot(recall_lr, precision_lr, marker='.', label='improved gnb')\n",
    "plt.plot(recall_gnb, precision_gnb, marker='_', label='gnb')\n",
    "plt.xlabel('Recall')\n",
    "plt.ylabel('Precision')\n",
    "plt.title('Precision-Recall Curve comparison')\n",
    "plt.grid(True)\n",
    "plt.xlim([0.0, 1.0])\n",
    "plt.ylim([0.0, 1.0])\n",
    "plt.fill_between(recall, precision, alpha=0.2, color='b')\n",
    "plt.text(0.2, 0.4, f'Avg Precision = {avg_precision:.2f}', fontsize=12)\n",
    "plt.legend()\n",
    "plt.show()\n",
    "plt.savefig('precision_recall_graph.jpg')"
   ]
  },
  {
   "attachments": {},
   "cell_type": "markdown",
   "metadata": {},
   "source": [
    "    The average precision score is 98%"
   ]
  },
  {
   "attachments": {},
   "cell_type": "markdown",
   "metadata": {},
   "source": []
  },
  {
   "attachments": {},
   "cell_type": "markdown",
   "metadata": {},
   "source": [
    "     The comparison between the f1_score curve"
   ]
  },
  {
   "cell_type": "code",
   "execution_count": 146,
   "metadata": {},
   "outputs": [
    {
     "data": {
      "image/png": "[encoded data removed]",
      "text/plain": [
       "<Figure size 800x600 with 1 Axes>"
      ]
     },
     "metadata": {},
     "output_type": "display_data"
    },
    {
     "data": {
      "text/plain": [
       "<Figure size 640x480 with 0 Axes>"
      ]
     },
     "metadata": {},
     "output_type": "display_data"
    }
   ],
   "source": [
    "import numpy as np\n",
    "import matplotlib.pyplot as plt\n",
    "from sklearn.metrics import precision_recall_curve, f1_score\n",
    "\n",
    "# Replace these with your actual predicted probabilities and true labels\n",
    "# predicted_probs should be a 1D array of predicted probabilities for the positive class\n",
    "# true_labels should be a 1D array of true labels (0 for negative class, 1 for positive class)\n",
    "predicted_probs = np.array([0.1, 0.3, 0.4, 0.6, 0.8, 0.2, 0.7, 0.9, 0.5, 0.3])\n",
    "true_labels = np.array([0, 0, 1, 0, 1, 1, 1, 0, 1, 1])\n",
    "\n",
    "# Calculate precision-recall pairs and F1-scores\n",
    "precision_lr, recall_lr, thresholds_lr = precision_recall_curve(y_test, y_pred_lr)\n",
    "f1_scores_lr = 2 * (precision_lr * recall_lr) / (precision_lr + recall_lr)\n",
    "\n",
    "precision_gnb, recall_gnb, thresholds_gnb = precision_recall_curve(y_test, y_pred_gnb)\n",
    "f1_scores_gnb = 2 * (precision_gnb * recall_gnb) / (precision_gnb + recall_gnb)\n",
    "\n",
    "# Plot the F1-score graph\n",
    "plt.figure(figsize=(8, 6))\n",
    "plt.plot(thresholds_lr, f1_scores_lr[:-1], marker='.', label = 'improved gnb')\n",
    "plt.plot(thresholds_gnb, f1_scores_gnb[:-1], marker='_', label = 'gnb')\n",
    "plt.xlabel('Threshold')\n",
    "plt.ylabel('F1-score')\n",
    "plt.title('F1-score vs. Threshold')\n",
    "plt.grid(True)\n",
    "plt.xlim([0.0, 1.0])\n",
    "plt.ylim([0.0, 1.0])\n",
    "plt.legend()\n",
    "plt.show()\n",
    "plt.savefig('f1_score_graph.jpg')\n"
   ]
  },
  {
   "attachments": {},
   "cell_type": "markdown",
   "metadata": {},
   "source": [
    "##### The lOGISTIC Regression model has 97% accuracy"
   ]
  },
  {
   "attachments": {},
   "cell_type": "markdown",
   "metadata": {},
   "source": [
    "##### Saving the Logistic Regression model as a pickle file"
   ]
  },
  {
   "cell_type": "code",
   "execution_count": 120,
   "metadata": {},
   "outputs": [],
   "source": [
    "# saving the logistic regression model\n",
    "with open('tweet_lr.pkl','wb') as myfile_lr:\n",
    "    pickle.dump(model_lr,myfile_lr)\n",
    "\n",
    "with open('tweet_lr.pkl','rb') as myfile_lr:\n",
    "    model = pickle.load(myfile_lr)"
   ]
  },
  {
   "attachments": {},
   "cell_type": "markdown",
   "metadata": {},
   "source": [
    "#### Visualizing the accuracy score to show the improvement "
   ]
  },
  {
   "cell_type": "code",
   "execution_count": 121,
   "metadata": {},
   "outputs": [],
   "source": [
    "acc_dict = {\n",
    "        \"Logistic Regression\":accuracy_score(y_test, y_pred_lr)*100,\n",
    "        \"naive_bayes\":accuracy_score(y_test, y_pred_gnb)*100,\n",
    "        }"
   ]
  },
  {
   "cell_type": "code",
   "execution_count": 122,
   "metadata": {},
   "outputs": [
    {
     "data": {
      "text/plain": [
       "<AxesSubplot:>"
      ]
     },
     "execution_count": 122,
     "metadata": {},
     "output_type": "execute_result"
    },
    {
     "data": {
      "image/png": "[encoded data removed]",
      "text/plain": [
       "<Figure size 640x480 with 1 Axes>"
      ]
     },
     "metadata": {},
     "output_type": "display_data"
    }
   ],
   "source": [
    "pd.DataFrame(acc_dict.values(), index=acc_dict.keys(), columns=[\"accuracy\"]).plot(kind='bar')"
   ]
  },
  {
   "attachments": {},
   "cell_type": "markdown",
   "metadata": {},
   "source": [
    "### **Improving the model further**"
   ]
  },
  {
   "attachments": {},
   "cell_type": "markdown",
   "metadata": {},
   "source": [
    "### Using XG BOOSTING\n",
    "##### XG BOOST stands for Xtreme Gradient Boosting"
   ]
  },
  {
   "attachments": {},
   "cell_type": "markdown",
   "metadata": {},
   "source": [
    "To understand what XGBoost is all about let's see what Gradient Boost is:\n",
    "\n",
    "###  **Gradient Boosting**\n",
    "\n",
    "##### Gradient boosting is a supervised machine learning algorithm, which tries to predict a target variable by combining the estimates of a set of simpler, weaker models. In boosting, the trees are built in a sequential manner such that each subsequent tree aims to reduce the errors of the previous tree. The misclassified labels are given higher weights. Each tree learns from its predecessors and tries to reduce the residual errors. So, the tree next in sequence will learn from the previous tree residuals."
   ]
  },
  {
   "attachments": {},
   "cell_type": "markdown",
   "metadata": {},
   "source": [
    "### **XG Boost**\n",
    "\n",
    "#####  XGBoost (Extreme Gradient Boosting) is an advanced implementation of the **gradient boosting** algorithm. It has proved to be a highly effective machine learning algorithm extensively used in machine learning competitions. XGBoost has high predictive power and is almost 10 times faster than other gradient boosting techniques. It also includes a variety of regularization parameters which reduces overfitting and improves overall performance. Hence, it is also known as regularized boosting technique."
   ]
  },
  {
   "attachments": {},
   "cell_type": "markdown",
   "metadata": {},
   "source": []
  },
  {
   "cell_type": "code",
   "execution_count": 123,
   "metadata": {},
   "outputs": [
    {
     "name": "stdout",
     "output_type": "stream",
     "text": [
      "Requirement already satisfied: xgboost in c:\\users\\oyeni\\anaconda3\\lib\\site-packages (1.7.5)\n",
      "Requirement already satisfied: numpy in c:\\users\\oyeni\\anaconda3\\lib\\site-packages (from xgboost) (1.21.5)\n",
      "Requirement already satisfied: scipy in c:\\users\\oyeni\\anaconda3\\lib\\site-packages (from xgboost) (1.9.1)\n"
     ]
    }
   ],
   "source": [
    "!pip install xgboost"
   ]
  },
  {
   "cell_type": "code",
   "execution_count": 124,
   "metadata": {},
   "outputs": [
    {
     "data": {
      "text/plain": [
       "XGBClassifier(alpha=10, base_score=None, booster=None, callbacks=None,\n",
       "              colsample_bylevel=None, colsample_bynode=None,\n",
       "              colsample_bytree=None, early_stopping_rounds=None,\n",
       "              enable_categorical=False, eval_metric=None, feature_types=None,\n",
       "              gamma=None, gpu_id=None, grow_policy=None, importance_type=None,\n",
       "              interaction_constraints=None, learning_rate=1.0, max_bin=None,\n",
       "              max_cat_threshold=None, max_cat_to_onehot=None,\n",
       "              max_delta_step=None, max_depth=4, max_leaves=None,\n",
       "              min_child_weight=None, missing=nan, monotone_constraints=None,\n",
       "              n_estimators=100, n_jobs=None, num_parallel_tree=None,\n",
       "              predictor=None, ...)"
      ]
     },
     "execution_count": 124,
     "metadata": {},
     "output_type": "execute_result"
    }
   ],
   "source": [
    "# import XGBClassifier\n",
    "from xgboost import XGBClassifier\n",
    "\n",
    "\n",
    "# declare parameters\n",
    "params = {\n",
    "            'objective':'binary:logistic',\n",
    "            'max_depth': 4,\n",
    "            'alpha': 10,\n",
    "            'learning_rate': 1.0,\n",
    "            'n_estimators':100\n",
    "        }\n",
    "            \n",
    "            \n",
    "            \n",
    "# instantiate the classifier \n",
    "xgb_clf = XGBClassifier(**params)\n",
    "\n",
    "\n",
    "\n",
    "# fit the classifier to the training data\n",
    "xgb_clf.fit(x_train_vect.toarray(),y_train)"
   ]
  },
  {
   "cell_type": "code",
   "execution_count": 125,
   "metadata": {},
   "outputs": [],
   "source": [
    "y_pred_xgb = xgb_clf.predict(x_test_vect_gnb)"
   ]
  },
  {
   "cell_type": "code",
   "execution_count": 126,
   "metadata": {},
   "outputs": [
    {
     "name": "stdout",
     "output_type": "stream",
     "text": [
      "XGBoost model accuracy score: 0.9736\n"
     ]
    }
   ],
   "source": [
    "print('XGBoost model accuracy score: {0:0.4f}'. format(accuracy_score(y_test, y_pred_xgb)))"
   ]
  },
  {
   "cell_type": "code",
   "execution_count": 127,
   "metadata": {},
   "outputs": [],
   "source": [
    "acc_dict = {\n",
    "        \"naive_bayes\":accuracy_score(y_test, y_pred_gnb)*100,\n",
    "         \"XG Boost\":accuracy_score(y_test, y_pred_xgb)*100,\n",
    "        }"
   ]
  },
  {
   "cell_type": "code",
   "execution_count": 128,
   "metadata": {},
   "outputs": [
    {
     "data": {
      "text/plain": [
       "<AxesSubplot:>"
      ]
     },
     "execution_count": 128,
     "metadata": {},
     "output_type": "execute_result"
    },
    {
     "data": {
      "image/png": "[encoded data removed]",
      "text/plain": [
       "<Figure size 640x480 with 1 Axes>"
      ]
     },
     "metadata": {},
     "output_type": "display_data"
    }
   ],
   "source": [
    "pd.DataFrame(acc_dict.values(), index=acc_dict.keys(), columns=[\"accuracy\"]).plot(kind='bar')"
   ]
  },
  {
   "attachments": {},
   "cell_type": "markdown",
   "metadata": {},
   "source": [
    "##### based on the accuracy... it has increased by approximately 13%."
   ]
  },
  {
   "attachments": {},
   "cell_type": "markdown",
   "metadata": {},
   "source": []
  },
  {
   "attachments": {},
   "cell_type": "markdown",
   "metadata": {},
   "source": [
    "## Improving the initial Gaussian Naive Bayes Model by tunning the **hyperparameters**"
   ]
  },
  {
   "attachments": {},
   "cell_type": "markdown",
   "metadata": {},
   "source": [
    "### Using GridSearchCV to find the best estimator "
   ]
  },
  {
   "cell_type": "code",
   "execution_count": 129,
   "metadata": {},
   "outputs": [],
   "source": [
    "# from sklearn.model_selection import GridSearchCV\n",
    "# param_gnb = {'var_smoothing' : np.logspace(0, -9, num=100)}\n",
    "\n",
    "# gnb_grid = GridSearchCV(estimator=GaussianNB(), param_grid=param_gnb, verbose=1, cv=10, n_jobs=-1)\n",
    "\n",
    "# gnb_grid.fit(x_train_vect.toarray(),y_train)"
   ]
  },
  {
   "cell_type": "code",
   "execution_count": 130,
   "metadata": {},
   "outputs": [],
   "source": [
    "# gnb_grid.best_estimator_"
   ]
  },
  {
   "cell_type": "code",
   "execution_count": 131,
   "metadata": {},
   "outputs": [],
   "source": [
    "# test_pred = gnb_grid.predict(x_test_vect_gnb.toarray())"
   ]
  },
  {
   "cell_type": "code",
   "execution_count": 132,
   "metadata": {},
   "outputs": [],
   "source": [
    "# print(\" Improved Gaussian Naive Bayes accuracy score:\", accuracy_score(y_test, test_pred))\n",
    "# print('classification reports:\\n',classification_report(y_test,gnb_grid.predict(x_test_vect_gnb.toarray())))"
   ]
  },
  {
   "attachments": {},
   "cell_type": "markdown",
   "metadata": {},
   "source": [
    "### Comparison between the Gaussian Naive Bayes and the improved Gaussian Naive Bayes\n",
    "### Using visuals"
   ]
  },
  {
   "cell_type": "code",
   "execution_count": 133,
   "metadata": {},
   "outputs": [],
   "source": [
    "# acc_dict = {\n",
    "#         \"naive_bayes\":accuracy_score(y_test, y_pred_gnb)*100,\n",
    "#          \"Imrpoved Gaussian Naive Bayes\":accuracy_score(y_test, test_pred)*100,\n",
    "#         }\n",
    "\n",
    "# pd.DataFrame(acc_dict.values(), index=acc_dict.keys(), columns=[\"accuracy\"]).plot(kind='bar')"
   ]
  },
  {
   "cell_type": "code",
   "execution_count": null,
   "metadata": {},
   "outputs": [],
   "source": []
  }
 ],
 "metadata": {
  "colab": {
   "provenance": []
  },
  "kernelspec": {
   "display_name": "Python 3 (ipykernel)",
   "language": "python",
   "name": "python3"
  },
  "language_info": {
   "codemirror_mode": {
    "name": "ipython",
    "version": 3
   },
   "file_extension": ".py",
   "mimetype": "text/x-python",
   "name": "python",
   "nbconvert_exporter": "python",
   "pygments_lexer": "ipython3",
   "version": "3.9.13"
  }
 },
 "nbformat": 4,
 "nbformat_minor": 1
}
